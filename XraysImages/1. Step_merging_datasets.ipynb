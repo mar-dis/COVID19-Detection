{
 "cells": [
  {
   "cell_type": "markdown",
   "metadata": {},
   "source": [
    "**Merging of the 2 data sets**\n",
    "\n",
    "(covid-chestxray-dataset-master &  chest-xray-pneumonia)\n",
    "\n",
    "*Note:* The following data preparation code was created under  the guidance of the following source https://github.com/lindawangg/COVID-Net/blob/master/create_COVIDx.ipynb"
   ]
  },
  {
   "cell_type": "code",
   "execution_count": null,
   "metadata": {},
   "outputs": [],
   "source": [
    "conda info --envs"
   ]
  },
  {
   "cell_type": "code",
   "execution_count": null,
   "metadata": {},
   "outputs": [],
   "source": [
    "#conda activate C:/Users/jasmi/.conda/envs/CodeVsCovid19"
   ]
  },
  {
   "cell_type": "code",
   "execution_count": null,
   "metadata": {},
   "outputs": [],
   "source": [
    "#Import Modules\n",
    "import numpy as np\n",
    "import pandas as pd\n",
    "import os\n",
    "import random \n",
    "from shutil import copyfile"
   ]
  },
  {
   "cell_type": "code",
   "execution_count": null,
   "metadata": {},
   "outputs": [],
   "source": [
    "#Set the parameters\n",
    "savepath = 'COVIDx_data'\n",
    "seed = 0\n",
    "np.random.seed(seed) \n",
    "random.seed(seed)\n",
    "MAXVAL = 255  # Range [0 255]"
   ]
  },
  {
   "cell_type": "code",
   "execution_count": null,
   "metadata": {},
   "outputs": [],
   "source": [
    "# Load 1. Dataset - covid-chestxray-dataset-master (from https://github.com/ieee8023/covid-chestxray-dataset)\n",
    "imgpath = 'covid-chestxray-dataset-master/images' \n",
    "csvpath = 'covid-chestxray-dataset-master/metadata.csv'"
   ]
  },
  {
   "cell_type": "code",
   "execution_count": null,
   "metadata": {},
   "outputs": [],
   "source": [
    "# Load 2. Dataset - chest-xray-pneumonia (from https://www.kaggle.com/paultimothymooney/chest-xray-pneumonia)\n",
    "data_path = 'chest-xray-pneumonia/chest_xray'"
   ]
  },
  {
   "cell_type": "code",
   "execution_count": null,
   "metadata": {},
   "outputs": [],
   "source": [
    "# Parameters for 3. (New) COVIDx dataset\n",
    "train = []\n",
    "test = []\n",
    "split = 0.1 #Relation train/test split\n",
    "\n",
    "test_count = {'normal': 0, 'viral': 0, 'bacteria': 0, 'COVID-19': 0}\n",
    "train_count = {'normal': 0, 'viral': 0, 'bacteria': 0, 'COVID-19': 0}\n",
    "\n",
    "\n",
    "# adapted from https://github.com/mlmed/torchxrayvision/blob/master/torchxrayvision/datasets.py#L814\n",
    "csv = pd.read_csv(csvpath, nrows=None)\n",
    "\n",
    "\n",
    "idx_pa = csv[\"view\"] == \"PA\"  #Nur werte der Spalte View die PA sind-> Indizes ermitteln  \n",
    "idx_pa.describe()\n",
    "\n",
    "csv = csv[idx_pa] # csv[csv[\"view\"] == \"PA\"] auch möglich?, csv auf Indizes von idx_pa reduzieren\n",
    "csv.describe()\n",
    "\n",
    "#Spaltentitel definieren\n",
    "#pneumonias = Arten von Lungenentzündungen / pathologies = Krankheiten\n",
    "pneumonias = [\"COVID-19\", \"SARS\", \"MERS\", \"ARDS\", \"Streptococcus\"]\n",
    "pathologies = [\"Pneumonia\",\"Viral Pneumonia\", \"Bacterial Pneumonia\", \"No Finding\"] + pneumonias\n",
    "pathologies = sorted(pathologies)\n",
    "\n",
    "mapping = dict()\n",
    "mapping['COVID-19'] = 'COVID-19'\n",
    "mapping['SARS'] = 'viral'\n",
    "mapping['MERS'] = 'viral'\n",
    "mapping['Streptococcus'] = 'bacteria'"
   ]
  },
  {
   "cell_type": "code",
   "execution_count": null,
   "metadata": {},
   "outputs": [],
   "source": [
    "# get non-COVID19 viral, bacteria, and COVID-19 infections from covid-chestxray-dataset (Load 1)\n",
    "filename_label = {'normal': [], 'viral': [], 'bacteria': [], 'COVID-19': []} #mit entry (local-variable) ergänzen (Patientid, Filename, mamping-Wert)\n",
    "count = {'normal': 0, 'viral': 0, 'bacteria': 0, 'COVID-19': 0}\n",
    "\n",
    "for index, row in csv.iterrows():\n",
    "    f = row['finding']  #z.B. \"COVID-19\"\n",
    "    if f in mapping:\n",
    "        count[mapping[f]] += 1  #z.B. \"COVID-19\" : 1\n",
    "        entry = [int(row['Patientid']), row['filename'], mapping[f]]\n",
    "        filename_label[mapping[f]].append(entry)\n",
    "\n",
    "print('Data distribution from covid-chestxray-dataset:')\n",
    "print(count)\n",
    "\n",
    "dict(list(filename_label.items())[0:2])\n"
   ]
  },
  {
   "cell_type": "code",
   "execution_count": null,
   "metadata": {},
   "outputs": [],
   "source": [
    "# Covid-chestxray-dataset zu COVIDx-Dataframe (3. Datensatz) hinzufügen\n",
    "# Covid-chestxray-dataset hat keine Testdaten (Alle Bilder sind im Ordner \"images\")\n",
    "# split into train/test by patientid\n",
    "\n",
    "# for COVIDx:\n",
    "# patient 8 is used as non-COVID19 viral test\n",
    "# patient 31 is used as bacterial test\n",
    "# patients 19, 20, 36, 42, 86 are used as COVID-19 viral test#\n",
    "\n",
    "for key in filename_label.keys():\n",
    "    arr = np.array(filename_label[key])\n",
    "    if arr.size == 0:\n",
    "        continue\n",
    "        \n",
    "    # split by patients\n",
    "    num_diff_patients = len(np.unique(arr[:,0]))\n",
    "    num_test = max(1, round(split*num_diff_patients))\n",
    "    \n",
    "    # select num_test number of random patients\n",
    "    test_patients = random.sample(list(arr[:,0]), num_test)\n",
    "    print('Key: ', key)\n",
    "    print('Test patients: ', test_patients)\n",
    "    \n",
    "    # go through all the patients\n",
    "    for patient in arr:\n",
    "        if patient[0] in test_patients:\n",
    "            copyfile(os.path.join(imgpath, patient[1]), os.path.join(savepath, 'test', patient[1]))\n",
    "            test.append(patient)\n",
    "            test_count[patient[2]] += 1\n",
    "        else:\n",
    "            copyfile(os.path.join(imgpath, patient[1]), os.path.join(savepath, 'train', patient[1]))\n",
    "            train.append(patient)\n",
    "            train_count[patient[2]] += 1\n",
    "\n",
    "print('test count: ', test_count)\n",
    "print('train count: ', train_count)"
   ]
  },
  {
   "cell_type": "code",
   "execution_count": null,
   "metadata": {},
   "outputs": [],
   "source": [
    "#Load 2 einbinden\n",
    "\n",
    "# add kaggle chest xray data into COVID19\n",
    "folders = ['train', 'val', 'test']\n",
    "\n",
    "# train, val, test normal data\n",
    "for folder in folders: \n",
    "    for img in os.listdir(os.path.join(data_path, folder, 'NORMAL')):\n",
    "        if '.jp' in img: #Manipulation der Bildernamen\n",
    "            new_img = img.strip('IM-')  #strip definiert zu entfernende Werte\n",
    "            new_img = new_img.strip('NORMAL2-IM-')\n",
    "            # add to current dataset\n",
    "            patientid = '1000' + new_img.split('-')[0] # add 1000 in front of kaggle patient ids\n",
    "            if folder == 'train' or folder == 'val':\n",
    "                # copy files to data folder\n",
    "                copyfile(os.path.join(data_path, folder, 'NORMAL', img), os.path.join(savepath, 'train', img))\n",
    "                train.append([patientid, img, 'normal'])\n",
    "                train_count['normal'] += 1\n",
    "            else:\n",
    "                copyfile(os.path.join(data_path, folder, 'NORMAL', img), os.path.join(savepath, 'test', img))\n",
    "                test.append([patientid, img, 'normal'])\n",
    "                test_count['normal'] += 1\n"
   ]
  },
  {
   "cell_type": "code",
   "execution_count": null,
   "metadata": {},
   "outputs": [],
   "source": [
    "#File-Zustand überprüfen\n",
    "print('Final stats')\n",
    "print('Train count: ', train_count)\n",
    "print('Test count: ', test_count)\n",
    "print('Total length of train: ', len(train))\n",
    "print('Total length of test: ', len(test))"
   ]
  },
  {
   "cell_type": "code",
   "execution_count": null,
   "metadata": {},
   "outputs": [],
   "source": [
    "print(train)\n",
    "print(test)"
   ]
  },
  {
   "cell_type": "code",
   "execution_count": null,
   "metadata": {},
   "outputs": [],
   "source": [
    "# run this cell when adding in new covid data from covid-chextxray-dataset\n",
    "\n",
    "# load in current train/test information\n",
    "train_filepath = 'train_split.txt'\n",
    "test_filepath = 'test_split.txt'\n",
    "file = open(train_filepath, 'r') \n",
    "trainfiles = file.readlines() \n",
    "trainfiles = np.array([line.split() for line in trainfiles])\n",
    "file = open(test_filepath, 'r')\n",
    "testfiles = file.readlines()\n",
    "testfiles = np.array([line.split() for line in testfiles])\n",
    "\n",
    "# find the new entries in csv \n",
    "new_entries = []\n",
    "for key in filename_label.keys():\n",
    "    arr = np.array(filename_label[key])\n",
    "    if arr.size == 0:\n",
    "        continue\n",
    "    for patient in arr:\n",
    "        if patient[1] not in trainfiles and patient[1] not in testfiles:\n",
    "            # if key is normal, bacteria or viral add to train folder\n",
    "            if key in ['normal', 'bacteria', 'viral']:\n",
    "                copyfile(os.path.join(imgpath, patient[1]), os.path.join(savepath, 'train', patient[1]))\n",
    "                train.append(patient)\n",
    "                train_count[patient[2]] += 1\n",
    "            else: \n",
    "                new_entries.append(patient)\n",
    "new_entries = np.array(new_entries)\n",
    "\n",
    "# 10% of new entries should go into in test\n",
    "if new_entries.size > 0:\n",
    "    num_diff_patients = len(np.unique(new_entries[:,0]))\n",
    "    num_test = max(1, round(split*num_diff_patients))\n",
    "\n",
    "    i = 0\n",
    "    used_i = []\n",
    "    # insert patients who are already in dataset into the respective train/test\n",
    "    for patient in new_entries:\n",
    "        if patient[0] in trainfiles:\n",
    "            copyfile(os.path.join(imgpath, patient[1]), os.path.join(savepath, 'train', patient[1]))\n",
    "            train.append(patient)\n",
    "            train_count[patient[2]] += 1\n",
    "            used_i.append(i)\n",
    "        elif patient[0] in testfiles:\n",
    "            copyfile(os.path.join(imgpath, patient[1]), os.path.join(savepath, 'test', patient[1]))\n",
    "            test.append(patient)\n",
    "            test_count[patient[2]] += 1\n",
    "            used_i.append(i)\n",
    "        i += 1\n",
    "    # delete patients who have already been inserted\n",
    "    new_entries = np.delete(new_entries, used_i, axis=0)\n",
    "\n",
    "    # select num_test number of random patients\n",
    "    test_patients = random.sample(list(new_entries[:,0]), num_test)\n",
    "    print('test patients: ', test_patients)\n",
    "    # add to respective train/test folders\n",
    "    for patient in new_entries:\n",
    "        if patient[0] in test_patients:\n",
    "            copyfile(os.path.join(imgpath, patient[1]), os.path.join(savepath, 'test', patient[1]))\n",
    "            test.append(patient)\n",
    "            test_count[patient[2]] += 1\n",
    "        else:\n",
    "            copyfile(os.path.join(imgpath, patient[1]), os.path.join(savepath, 'train', patient[1]))\n",
    "            train.append(patient)\n",
    "            train_count[patient[2]] += 1\n",
    "\n",
    "print('added test count: ', test_count)\n",
    "print('added train count: ', train_count)\n"
   ]
  },
  {
   "cell_type": "code",
   "execution_count": null,
   "metadata": {},
   "outputs": [],
   "source": [
    "# export to train and test csv\n",
    "# format as patientid, filename, label, separated by a space\n",
    "train_file = open(\"train_split.txt\",\"a\") \n",
    "for sample in train:\n",
    "    info = str(sample[0]) + ' ' + sample[1] + ' ' + sample[2] + '\\n'\n",
    "    train_file.write(info)\n",
    "\n",
    "train_file.close()\n",
    "\n",
    "test_file = open(\"test_split.txt\", \"a\")\n",
    "for sample in test:\n",
    "    info = str(sample[0]) + ' ' + sample[1] + ' ' + sample[2] + '\\n'\n",
    "    test_file.write(info)\n",
    "\n",
    "test_file.close()"
   ]
  }
 ],
 "metadata": {
  "kernelspec": {
   "display_name": "Python 3",
   "language": "python",
   "name": "python3"
  },
  "language_info": {
   "codemirror_mode": {
    "name": "ipython",
    "version": 3
   },
   "file_extension": ".py",
   "mimetype": "text/x-python",
   "name": "python",
   "nbconvert_exporter": "python",
   "pygments_lexer": "ipython3",
   "version": "3.7.4"
  }
 },
 "nbformat": 4,
 "nbformat_minor": 2
}
